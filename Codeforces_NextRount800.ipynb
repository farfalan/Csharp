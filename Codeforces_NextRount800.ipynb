{
  "nbformat": 4,
  "nbformat_minor": 0,
  "metadata": {
    "colab": {
      "provenance": [],
      "toc_visible": true,
      "authorship_tag": "ABX9TyNHNhJUVWi1xssupu2FsVMe",
      "include_colab_link": true
    },
    "kernelspec": {
      "name": "python3",
      "display_name": "Python 3"
    },
    "language_info": {
      "name": "python"
    }
  },
  "cells": [
    {
      "cell_type": "markdown",
      "metadata": {
        "id": "view-in-github",
        "colab_type": "text"
      },
      "source": [
        "<a href=\"https://colab.research.google.com/github/farfalan/Csharp/blob/main/Codeforces_NextRount800.ipynb\" target=\"_parent\"><img src=\"https://colab.research.google.com/assets/colab-badge.svg\" alt=\"Open In Colab\"/></a>"
      ]
    },
    {
      "cell_type": "code",
      "execution_count": 18,
      "metadata": {
        "colab": {
          "base_uri": "https://localhost:8080/"
        },
        "id": "lm5_if0xVChx",
        "outputId": "4fc16b33-7ee1-4246-c770-06f83131c16d"
      },
      "outputs": [
        {
          "output_type": "stream",
          "name": "stdout",
          "text": [
            "Enter the K.th winner: 5\n",
            "Enter the number of Participants and their scores: 8\n",
            "2\n",
            "2\n",
            "2\n",
            "2\n",
            "2\n",
            "3\n",
            "2\n",
            "2\n",
            "1\n"
          ]
        }
      ],
      "source": [
        "# prompt: array mit  n werte als input\n",
        "\n",
        "def get_array(n):\n",
        "    return [int(input()) for _ in range(n)]\n",
        "K = int(input(\"Enter the K.th winner: \"))\n",
        "n = int(input(\"Enter the number of Participants and their scores: \"))\n",
        "countAdvanceers = 0\n",
        "arr = get_array(n)\n",
        "\n",
        "for i in range(len(arr)-1,-1,-1):\n",
        "    if arr[i] >= arr[K] and arr[K]> 0:\n",
        "      countAdvanceers += 1\n",
        "\n",
        "\n",
        "print(countAdvanceers)\n",
        "\n",
        "\n"
      ]
    }
  ]
}